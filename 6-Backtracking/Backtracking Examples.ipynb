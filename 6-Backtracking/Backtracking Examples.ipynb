{
 "cells": [
  {
   "cell_type": "markdown",
   "metadata": {},
   "source": [
    "**Examples**\n",
    "\n",
    "- N-queens\n",
    "- Hamiltonian Paths\n",
    "- Hamiltonian Cycles\n",
    "    (https://www.geeksforgeeks.org/hamiltonian-cycle-backtracking-6/)\n",
    "- Coloring Problem\n",
    "- Sudoku\n",
    "- Knight's Tour (Open & closed tour)\n",
    "    1. https://www.geeksforgeeks.org/minimum-steps-reach-target-knight/\n",
    "    2. https://adrianmejia.com/how-to-solve-any-graph-2d-arrays-maze-interview-questions-in-javascript-dfs-vs-bfs/\n",
    "(BFS & DFS)\n",
    "- Maze Problem\n",
    "(BFS & DFS)\n",
    "    1. https://adrianmejia.com/how-to-solve-any-graph-2d-arrays-maze-interview-questions-in-javascript-dfs-vs-bfs/\n",
    "    2. https://www.youtube.com/watch?v=-D-CiHeK4qU\n",
    "    3. https://www.youtube.com/watch?v=b1vKhR7ZHzk\n",
    "    4. https://www.youtube.com/watch?v=KiCBXu4P-2Y\n",
    "    5. https://www.youtube.com/channel/UCmJz2DV1a3yfgrR7GqRtUUA"
   ]
  },
  {
   "cell_type": "code",
   "execution_count": null,
   "metadata": {},
   "outputs": [],
   "source": []
  }
 ],
 "metadata": {
  "kernelspec": {
   "display_name": "Python 3",
   "language": "python",
   "name": "python3"
  },
  "language_info": {
   "codemirror_mode": {
    "name": "ipython",
    "version": 3
   },
   "file_extension": ".py",
   "mimetype": "text/x-python",
   "name": "python",
   "nbconvert_exporter": "python",
   "pygments_lexer": "ipython3",
   "version": "3.8.5"
  }
 },
 "nbformat": 4,
 "nbformat_minor": 4
}
