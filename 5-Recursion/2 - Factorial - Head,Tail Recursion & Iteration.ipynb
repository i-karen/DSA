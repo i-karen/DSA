{
 "cells": [
  {
   "cell_type": "markdown",
   "metadata": {},
   "source": [
    "## Head Recursion"
   ]
  },
  {
   "cell_type": "code",
   "execution_count": 1,
   "metadata": {},
   "outputs": [
    {
     "name": "stdout",
     "output_type": "stream",
     "text": [
      "120\n"
     ]
    }
   ],
   "source": [
    "\n",
    "def factorial_head(n):\n",
    "\n",
    "    # this is the base case - 0!=1\n",
    "    if n == 0:\n",
    "        return 1\n",
    "\n",
    "    # use recursion\n",
    "    result1 = factorial_head(n-1)\n",
    "\n",
    "    # we do some operations\n",
    "    result2 = n * result1\n",
    "    return result2\n",
    "\n",
    "print(factorial_head(5))"
   ]
  },
  {
   "cell_type": "markdown",
   "metadata": {},
   "source": [
    "## Tail Recursion"
   ]
  },
  {
   "cell_type": "code",
   "execution_count": 2,
   "metadata": {},
   "outputs": [
    {
     "name": "stdout",
     "output_type": "stream",
     "text": [
      "24\n"
     ]
    }
   ],
   "source": [
    "## NO dependency on return keyword - Can eliminate return keyword.\n",
    "## Dependency is \"contained\" in the accumulator \n",
    "def factorial_tail(n, accumulator=1):\n",
    "\n",
    "    if n == 1:\n",
    "        return accumulator\n",
    "\n",
    "    return factorial_tail(n-1, n * accumulator)\n",
    "\n",
    "    ## ---- Eliminating return keyword ---\n",
    "    # if n == 1:\n",
    "    #     print(accumulator)\n",
    "    #     return\n",
    "\n",
    "    # factorial_tail(n-1, n * accumulator)\n",
    "\n",
    "\n",
    "print(factorial_tail(4))"
   ]
  },
  {
   "cell_type": "markdown",
   "metadata": {},
   "source": [
    "### Iteration"
   ]
  },
  {
   "cell_type": "code",
   "execution_count": null,
   "metadata": {},
   "outputs": [],
   "source": []
  }
 ],
 "metadata": {
  "kernelspec": {
   "display_name": "Python 3",
   "language": "python",
   "name": "python3"
  },
  "language_info": {
   "codemirror_mode": {
    "name": "ipython",
    "version": 3
   },
   "file_extension": ".py",
   "mimetype": "text/x-python",
   "name": "python",
   "nbconvert_exporter": "python",
   "pygments_lexer": "ipython3",
   "version": "3.8.5"
  }
 },
 "nbformat": 4,
 "nbformat_minor": 4
}
