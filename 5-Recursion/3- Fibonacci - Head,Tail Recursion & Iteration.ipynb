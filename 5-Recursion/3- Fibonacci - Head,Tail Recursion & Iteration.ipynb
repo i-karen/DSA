{
 "cells": [
  {
   "cell_type": "markdown",
   "metadata": {},
   "source": [
    "## Head"
   ]
  },
  {
   "cell_type": "code",
   "execution_count": 2,
   "metadata": {},
   "outputs": [
    {
     "name": "stdout",
     "output_type": "stream",
     "text": [
      "6765\n"
     ]
    }
   ],
   "source": [
    "def fibonacci_head(n):\n",
    "\n",
    "    if n == 0:\n",
    "        return 0\n",
    "    if n == 1:\n",
    "        return 1\n",
    "\n",
    "    # we make the recursive function call(s)\n",
    "    # we are going to do 2 recursion - we keep calculating the fibonacci numbers\n",
    "    # some values are calculate twice - there are multiple stack frames with the same value\n",
    "    fib1 = fibonacci_head(n-1)\n",
    "    fib2 = fibonacci_head(n-2)\n",
    "\n",
    "    # make some operations\n",
    "    result = fib1 + fib2\n",
    "\n",
    "    return result\n",
    "\n",
    "\n",
    "print(fibonacci_head(20))\n",
    "\n",
    "\n"
   ]
  },
  {
   "cell_type": "markdown",
   "metadata": {},
   "source": [
    "## Tail"
   ]
  },
  {
   "cell_type": "code",
   "execution_count": 4,
   "metadata": {},
   "outputs": [
    {
     "name": "stdout",
     "output_type": "stream",
     "text": [
      "6765\n"
     ]
    }
   ],
   "source": [
    "def fibonacci_tail(n,a=0,b=1):\n",
    "    \n",
    "    if n==0: return a\n",
    "    if n==1: return b\n",
    "    \n",
    "    ## single recursive function call which means that it is a faster approach\n",
    "    ## no need for two very similar recursive function calls\n",
    "    return fibonacci_tail(n-1,b,a+b)\n",
    "\n",
    "print(fibonacci_tail(20))"
   ]
  },
  {
   "cell_type": "markdown",
   "metadata": {},
   "source": [
    "## Iteration"
   ]
  },
  {
   "cell_type": "code",
   "execution_count": 6,
   "metadata": {},
   "outputs": [
    {
     "name": "stdout",
     "output_type": "stream",
     "text": [
      "0\n",
      "1\n",
      "1\n",
      "2\n",
      "3\n",
      "5\n",
      "8\n",
      "13\n",
      "21\n",
      "34\n",
      "55\n",
      "89\n"
     ]
    }
   ],
   "source": [
    "# print the Fibonacci sequence up to n\n",
    "def fibonacci_iteration(n):\n",
    " \n",
    "    a, b = 0, 1\n",
    " \n",
    "    while a < n:\n",
    "        print(a)\n",
    "        a, b = b, a + b\n",
    " \n",
    " \n",
    "fibonacci_iteration(100)"
   ]
  },
  {
   "cell_type": "code",
   "execution_count": null,
   "metadata": {},
   "outputs": [],
   "source": []
  }
 ],
 "metadata": {
  "kernelspec": {
   "display_name": "Python 3",
   "language": "python",
   "name": "python3"
  },
  "language_info": {
   "codemirror_mode": {
    "name": "ipython",
    "version": 3
   },
   "file_extension": ".py",
   "mimetype": "text/x-python",
   "name": "python",
   "nbconvert_exporter": "python",
   "pygments_lexer": "ipython3",
   "version": "3.8.5"
  }
 },
 "nbformat": 4,
 "nbformat_minor": 4
}
