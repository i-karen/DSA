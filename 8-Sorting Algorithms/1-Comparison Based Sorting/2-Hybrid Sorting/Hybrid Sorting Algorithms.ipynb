{
 "cells": [
  {
   "attachments": {},
   "cell_type": "markdown",
   "metadata": {},
   "source": [
    "## Hybrid algorithms\n",
    "\n",
    "- hybrid algorithms combine more algorithms to solve a given problem \n",
    "- it choses one algorithm depending on the data or switching between them over the course of the algorithm\n",
    "- this is generally done to combine desired features of the algorithms so that the overall algorithm is better than the individual components\n",
    "- hybrid algorithm does not refer to simply combining multiple algorithms to solve a different problem\n",
    "- it is about combining algorithms that solve the same problem – but differ in other characteristics (such as performance)\n",
    "\n",
    "\n",
    "### 1. IntroSort\n",
    "- heapsort has a guaranteed O(NlogN) linearithmic running time complexity\n",
    "- optimal implementations of quicksort is the fastest sorting approach but it may reduce to O(N2) quadratic running time in worst-case. the pivot selection approach is crucial\n",
    "- intro sort (introspective sort) is the combination of quicksort and heapsort algorithms\n",
    "- it is a hybrid sorting algorithm that provides both fast avarage performance and optimal worst-case performance\n",
    "- it begins with quicksort and switches to heapsort when quicksort becomes too slow\n",
    "\n",
    "\t\tQUICKSORT + HEAPSORT = INTROSORT\n",
    "\n",
    "\n",
    "### 2. TimSort\n",
    "- insertion sort has several advantages in the main – and it is very efficient on small datasets (5 - 10 elements )\n",
    "- merge sort is asymptotically optimal on large datasets but the overhead becomes significant if applying them to small datasets\n",
    "- the recusive calls on small arrays makes the algorithms slower\n",
    "        MERGE SORT + INSERTION SORT = TIMSORT\n",
    "\n",
    "- timsort is the combination of merge sort and insertion sort\n",
    "- it is a stable sorting algorithms which is a huge advantage\n",
    "- it was implemented by Tim Peters in 2002 for use in the Python programming language\n",
    "- best-case running time is O(N) linear\n",
    "- worst-case running time is O(NlogN) linearithmic\n",
    "- worst-case space complexity is O(N) linear – of course merge sort is not an in-place approach\n"
   ]
  },
  {
   "cell_type": "code",
   "execution_count": null,
   "metadata": {},
   "outputs": [],
   "source": []
  }
 ],
 "metadata": {
  "kernelspec": {
   "display_name": "Python 3",
   "language": "python",
   "name": "python3"
  },
  "language_info": {
   "codemirror_mode": {
    "name": "ipython",
    "version": 3
   },
   "file_extension": ".py",
   "mimetype": "text/x-python",
   "name": "python",
   "nbconvert_exporter": "python",
   "pygments_lexer": "ipython3",
   "version": "3.8.5"
  }
 },
 "nbformat": 4,
 "nbformat_minor": 4
}
