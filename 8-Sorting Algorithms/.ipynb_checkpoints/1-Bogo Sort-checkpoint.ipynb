{
 "cells": [
  {
   "cell_type": "code",
   "execution_count": null,
   "metadata": {},
   "outputs": [],
   "source": []
  },
  {
   "cell_type": "code",
   "execution_count": 2,
   "metadata": {},
   "outputs": [
    {
     "name": "stdout",
     "output_type": "stream",
     "text": [
      "Shuffle again...\n",
      "[-4, 1]\n"
     ]
    }
   ],
   "source": [
    "import random\n",
    "\n",
    "class BogoSort:\n",
    "\n",
    "    def __init__(self, nums):\n",
    "        self.nums = nums\n",
    "\n",
    "    def sort(self):\n",
    "\n",
    "        while not self.is_sorted():\n",
    "            print('Shuffle again...')\n",
    "            self.shuffle()\n",
    "\n",
    "    # Fisher-Yates approach: we generate a new permutation in O(N)\n",
    "    # it is in-place so does not need additional memory !!!\n",
    "    def shuffle(self):\n",
    "        for i in range(len(self.nums)-2, -1, -1):\n",
    "            j = random.randint(0, i+1)\n",
    "            # Swap - in a single line of code!\n",
    "            self.nums[i], self.nums[j] = self.nums[j], self.nums[i]\n",
    "\n",
    "    def is_sorted(self):\n",
    "        for i in range(len(self.nums)-1):\n",
    "            if self.nums[i] > self.nums[i+1]:\n",
    "                return False\n",
    "\n",
    "        return True\n",
    "\n",
    "\n",
    "if __name__ == '__main__':\n",
    "\n",
    "    # it has O(N!) running time\n",
    "#   algorithm = BogoSort([1, -4, 10, 5, 0, 1, 2, 3, 4, 5])\n",
    "    algorithm = BogoSort([1, -4])\n",
    "    algorithm.sort()\n",
    "    print(algorithm.nums)"
   ]
  },
  {
   "cell_type": "code",
   "execution_count": null,
   "metadata": {},
   "outputs": [],
   "source": []
  }
 ],
 "metadata": {
  "kernelspec": {
   "display_name": "Python 3",
   "language": "python",
   "name": "python3"
  },
  "language_info": {
   "codemirror_mode": {
    "name": "ipython",
    "version": 3
   },
   "file_extension": ".py",
   "mimetype": "text/x-python",
   "name": "python",
   "nbconvert_exporter": "python",
   "pygments_lexer": "ipython3",
   "version": "3.8.5"
  }
 },
 "nbformat": 4,
 "nbformat_minor": 4
}
