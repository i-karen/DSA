{
 "cells": [
  {
   "cell_type": "code",
   "execution_count": 1,
   "metadata": {},
   "outputs": [
    {
     "name": "stdout",
     "output_type": "stream",
     "text": [
      "[3, 0, -3]\n"
     ]
    }
   ],
   "source": [
    "def reverse(nums):\n",
    "\n",
    "    # pointing to the first item\n",
    "    start_index = 0\n",
    "    # index pointing to the last item\n",
    "    end_index = len(nums)-1\n",
    "\n",
    "    while end_index > start_index:\n",
    "        # keep swapping the items\n",
    "        nums[start_index], nums[end_index] = nums[end_index], nums[start_index]\n",
    "        start_index = start_index + 1\n",
    "        end_index = end_index - 1\n",
    "\n",
    "\n",
    "if __name__ == '__main__':\n",
    "\n",
    "    n = [-3, 0, 3]\n",
    "    reverse(n)\n",
    "    print(n)"
   ]
  },
  {
   "cell_type": "code",
   "execution_count": null,
   "metadata": {},
   "outputs": [],
   "source": []
  }
 ],
 "metadata": {
  "kernelspec": {
   "display_name": "Python 3",
   "language": "python",
   "name": "python3"
  },
  "language_info": {
   "codemirror_mode": {
    "name": "ipython",
    "version": 3
   },
   "file_extension": ".py",
   "mimetype": "text/x-python",
   "name": "python",
   "nbconvert_exporter": "python",
   "pygments_lexer": "ipython3",
   "version": "3.8.5"
  }
 },
 "nbformat": 4,
 "nbformat_minor": 4
}
