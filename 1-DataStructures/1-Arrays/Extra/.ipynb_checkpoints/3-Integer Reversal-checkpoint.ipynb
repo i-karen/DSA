{
 "cells": [
  {
   "cell_type": "code",
   "execution_count": 1,
   "metadata": {},
   "outputs": [
    {
     "name": "stdout",
     "output_type": "stream",
     "text": [
      "87654321\n"
     ]
    }
   ],
   "source": [
    "\n",
    "def reverse_integer(n):\n",
    "\n",
    "    reversed_integer = 0\n",
    "\n",
    "    while n > 0:\n",
    "        remainder = n % 10\n",
    "        reversed_integer = reversed_integer*10 + remainder\n",
    "        n = n // 10\n",
    "\n",
    "    return reversed_integer\n",
    "\n",
    "\n",
    "if __name__ == '__main__':\n",
    "    print(reverse_integer(12345678))"
   ]
  },
  {
   "cell_type": "code",
   "execution_count": null,
   "metadata": {},
   "outputs": [],
   "source": []
  }
 ],
 "metadata": {
  "kernelspec": {
   "display_name": "Python 3",
   "language": "python",
   "name": "python3"
  },
  "language_info": {
   "codemirror_mode": {
    "name": "ipython",
    "version": 3
   },
   "file_extension": ".py",
   "mimetype": "text/x-python",
   "name": "python",
   "nbconvert_exporter": "python",
   "pygments_lexer": "ipython3",
   "version": "3.8.5"
  }
 },
 "nbformat": 4,
 "nbformat_minor": 4
}
