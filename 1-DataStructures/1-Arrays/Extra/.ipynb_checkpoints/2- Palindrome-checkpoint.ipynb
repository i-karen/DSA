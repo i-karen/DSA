{
 "cells": [
  {
   "cell_type": "code",
   "execution_count": 1,
   "metadata": {},
   "outputs": [
    {
     "name": "stdout",
     "output_type": "stream",
     "text": [
      "False\n",
      "False\n"
     ]
    }
   ],
   "source": [
    "# it has O(s) so basically linear running time complexity as far as the number\n",
    "# of letters in the string is concerned\n",
    "def is_palindrome(s):\n",
    "\n",
    "    original_string = s\n",
    "    # this is what we have implemented in the previous lecture in O(N)\n",
    "    reversed_string = reverse(s)\n",
    "\n",
    "    if original_string == reversed_string:\n",
    "        return True\n",
    "\n",
    "    return False\n",
    "\n",
    "\n",
    "# O(N) linear running time where N is the number of letters in string s N=len(s)\n",
    "def reverse(data):\n",
    "\n",
    "    # string into a list of characters\n",
    "    data = list(data)\n",
    "\n",
    "    # pointing to the first item\n",
    "    start_index = 0\n",
    "    # index pointing to the last item\n",
    "    end_index = len(data)-1\n",
    "\n",
    "    while end_index > start_index:\n",
    "        # keep swapping the items\n",
    "\n",
    "        data[start_index], data[end_index] = data[end_index], data[start_index]\n",
    "        start_index = start_index + 1\n",
    "        end_index = end_index - 1\n",
    "\n",
    "    # transform the list of letters into a string\n",
    "    return ''.join(data)\n",
    "\n",
    "def palindrome_python(s):\n",
    "    if s == s[::-1]:\n",
    "        return True\n",
    "    return False\n",
    "\n",
    "if __name__ == '__main__':\n",
    "    print(palindrome_python('Madam'))\n",
    "    print(is_palindrome('Kevin'))"
   ]
  },
  {
   "cell_type": "code",
   "execution_count": null,
   "metadata": {},
   "outputs": [],
   "source": []
  }
 ],
 "metadata": {
  "kernelspec": {
   "display_name": "Python 3",
   "language": "python",
   "name": "python3"
  },
  "language_info": {
   "codemirror_mode": {
    "name": "ipython",
    "version": 3
   },
   "file_extension": ".py",
   "mimetype": "text/x-python",
   "name": "python",
   "nbconvert_exporter": "python",
   "pygments_lexer": "ipython3",
   "version": "3.8.5"
  }
 },
 "nbformat": 4,
 "nbformat_minor": 4
}
