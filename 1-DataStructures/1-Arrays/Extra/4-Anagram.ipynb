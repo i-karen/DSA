{
 "cells": [
  {
   "cell_type": "code",
   "execution_count": 3,
   "metadata": {},
   "outputs": [
    {
     "name": "stdout",
     "output_type": "stream",
     "text": [
      "True\n"
     ]
    }
   ],
   "source": [
    "def is_anagram(str1, str2):\n",
    "\n",
    "    # if the length of the strings differ - they are not anagrams\n",
    "    if len(str1) != len(str2):\n",
    "        return False\n",
    "\n",
    "    # we have to sort the letters of the strings and then we haev to compare\n",
    "    # the letters with the same indexes\n",
    "    # this is the bottlenect because it has O(NlogN)\n",
    "    str1 = sorted(str1)\n",
    "    str2 = sorted(str2)\n",
    "\n",
    "    # after that we have to check the letters with the same indexes\n",
    "    # O(N) running time\n",
    "    for i in range(len(str1)):\n",
    "        if str1[i] != str2[i]:\n",
    "            return False\n",
    "\n",
    "    # overall running time is O(NlogN)+O(N)=O(NlogN)\n",
    "\n",
    "    return True\n",
    "\n",
    "\n",
    "if __name__ == '__main__':\n",
    "\n",
    "    s1 = ['f', 'l', 'u', 's', 't', 'e', 'r']\n",
    "    s2 = ['r', 'e', 's', 't', 'f', 'u', 'l']\n",
    "    \n",
    "#     s1 = ['f', 'l', 'u', 's', 't', 'e', 'r']\n",
    "#     s2 = ['r', 'e', 's', 't', 'f', 'e', 'l']\n",
    "\n",
    "    print(is_anagram(s1, s2))"
   ]
  },
  {
   "cell_type": "code",
   "execution_count": null,
   "metadata": {},
   "outputs": [],
   "source": []
  }
 ],
 "metadata": {
  "kernelspec": {
   "display_name": "Python 3",
   "language": "python",
   "name": "python3"
  },
  "language_info": {
   "codemirror_mode": {
    "name": "ipython",
    "version": 3
   },
   "file_extension": ".py",
   "mimetype": "text/x-python",
   "name": "python",
   "nbconvert_exporter": "python",
   "pygments_lexer": "ipython3",
   "version": "3.8.5"
  }
 },
 "nbformat": 4,
 "nbformat_minor": 4
}
