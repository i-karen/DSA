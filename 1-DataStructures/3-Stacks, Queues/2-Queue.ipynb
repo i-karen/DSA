{
 "cells": [
  {
   "cell_type": "markdown",
   "metadata": {},
   "source": [
    "# Queue\n",
    "* it is an abstract data type – and it can be implemented either with arrays or with linked lists\n",
    "* it has a so-called FIFO structure – the first item we inserted is the first item we take out\n",
    "* basic operations are enqueue(), dequeue() and peek()\n",
    "* has several applications in operating systems and thread management (multithreading)\n"
   ]
  },
  {
   "cell_type": "code",
   "execution_count": 1,
   "metadata": {},
   "outputs": [],
   "source": [
    "class Queue:\n",
    "\n",
    "    def __init__(self):\n",
    "        self.queue = []\n",
    "\n",
    "    # O(1) running time\n",
    "    def is_empty(self):\n",
    "        return self.queue == []\n",
    "\n",
    "    # O(1) running time\n",
    "    def enqueue(self, data):\n",
    "        self.queue.append(data)\n",
    "\n",
    "    # O(N) linear running time but we could use doubly linked list\n",
    "    # to achieve O(1) for all operations\n",
    "    def dequeue(self):\n",
    "        data = self.queue[0]\n",
    "        del self.queue[0]\n",
    "        return data\n",
    "\n",
    "    # O(1) constant running time\n",
    "    def peek(self):\n",
    "        return self.queue[0]\n",
    "\n",
    "    # O(1)\n",
    "    def size_queue(self):\n",
    "        return len(self.queue)\n"
   ]
  },
  {
   "cell_type": "code",
   "execution_count": 2,
   "metadata": {},
   "outputs": [],
   "source": [
    "q = Queue()"
   ]
  },
  {
   "cell_type": "code",
   "execution_count": 4,
   "metadata": {},
   "outputs": [
    {
     "data": {
      "text/plain": [
       "0"
      ]
     },
     "execution_count": 4,
     "metadata": {},
     "output_type": "execute_result"
    }
   ],
   "source": [
    "q.size_queue()"
   ]
  },
  {
   "cell_type": "code",
   "execution_count": 5,
   "metadata": {},
   "outputs": [
    {
     "data": {
      "text/plain": [
       "True"
      ]
     },
     "execution_count": 5,
     "metadata": {},
     "output_type": "execute_result"
    }
   ],
   "source": [
    "q.is_empty()"
   ]
  },
  {
   "cell_type": "code",
   "execution_count": 6,
   "metadata": {},
   "outputs": [],
   "source": [
    "q.enqueue(1)"
   ]
  },
  {
   "cell_type": "code",
   "execution_count": 7,
   "metadata": {},
   "outputs": [
    {
     "data": {
      "text/plain": [
       "1"
      ]
     },
     "execution_count": 7,
     "metadata": {},
     "output_type": "execute_result"
    }
   ],
   "source": [
    "q.dequeue()"
   ]
  },
  {
   "cell_type": "code",
   "execution_count": null,
   "metadata": {},
   "outputs": [],
   "source": []
  }
 ],
 "metadata": {
  "kernelspec": {
   "display_name": "Python 3",
   "language": "python",
   "name": "python3"
  },
  "language_info": {
   "codemirror_mode": {
    "name": "ipython",
    "version": 3
   },
   "file_extension": ".py",
   "mimetype": "text/x-python",
   "name": "python",
   "nbconvert_exporter": "python",
   "pygments_lexer": "ipython3",
   "version": "3.8.5"
  }
 },
 "nbformat": 4,
 "nbformat_minor": 4
}
