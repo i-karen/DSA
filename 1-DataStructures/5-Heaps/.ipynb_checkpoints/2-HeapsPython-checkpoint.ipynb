{
 "cells": [
  {
   "cell_type": "markdown",
   "metadata": {},
   "source": [
    "# Heaps using Python Library\n",
    "Heaps in Python can be obtained from the library **heapq**.\n",
    "\n",
    "It is the min heap implementation.\n",
    "__Methods available:-__\n",
    "* heapify()\n",
    "* heappush()\n",
    "* heappop()"
   ]
  },
  {
   "cell_type": "code",
   "execution_count": 5,
   "metadata": {},
   "outputs": [
    {
     "name": "stdout",
     "output_type": "stream",
     "text": [
      "[-2, 1, 0, 7, 4, 3]\n"
     ]
    }
   ],
   "source": [
    "import heapq\n",
    "\n",
    "# it is the min heap implementation\n",
    "\n",
    "# create heap data structure - METHOD1\n",
    "heap = [4, 7, 3, -2, 1, 0]\n",
    "heapq.heapify(heap)\n",
    "print(heap)\n"
   ]
  },
  {
   "cell_type": "code",
   "execution_count": 6,
   "metadata": {},
   "outputs": [
    {
     "name": "stdout",
     "output_type": "stream",
     "text": [
      "[-2, 1, 0, 7, 3, 4]\n"
     ]
    }
   ],
   "source": [
    "nums = [4, 7, 3, -2, 1, 0]\n",
    "heap = []\n",
    "# create heap data structure - METHOD2\n",
    "for value in nums:\n",
    "    heapq.heappush(heap, value)\n",
    "print(heap)\n",
    "\n"
   ]
  },
  {
   "cell_type": "code",
   "execution_count": 7,
   "metadata": {},
   "outputs": [
    {
     "name": "stdout",
     "output_type": "stream",
     "text": [
      "-2\n",
      "0\n",
      "1\n",
      "3\n",
      "4\n",
      "7\n"
     ]
    }
   ],
   "source": [
    "# get the sorted array\n",
    "while heap:\n",
    "    print(heapq.heappop(heap))"
   ]
  },
  {
   "cell_type": "code",
   "execution_count": null,
   "metadata": {},
   "outputs": [],
   "source": []
  }
 ],
 "metadata": {
  "kernelspec": {
   "display_name": "Python 3",
   "language": "python",
   "name": "python3"
  },
  "language_info": {
   "codemirror_mode": {
    "name": "ipython",
    "version": 3
   },
   "file_extension": ".py",
   "mimetype": "text/x-python",
   "name": "python",
   "nbconvert_exporter": "python",
   "pygments_lexer": "ipython3",
   "version": "3.8.5"
  }
 },
 "nbformat": 4,
 "nbformat_minor": 4
}
