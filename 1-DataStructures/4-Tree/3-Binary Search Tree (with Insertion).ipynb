{
 "cells": [
  {
   "cell_type": "code",
   "execution_count": 1,
   "metadata": {},
   "outputs": [],
   "source": [
    "class Node:\n",
    "\n",
    "    def __init__(self, data, parent):\n",
    "        self.data = data\n",
    "        self.parent = parent\n",
    "        self.right_node = None\n",
    "        self.left_node = None\n",
    "\n",
    "\n",
    "class BinarySearchTree:\n",
    "\n",
    "    def __init__(self):\n",
    "        self.root = None\n",
    "\n",
    "    def insert(self, data):\n",
    "        if self.root is None:\n",
    "            self.root = Node(data, None)\n",
    "        else:\n",
    "            self.insert_node(data, self.root)\n",
    "    def insert_node(self, data, node):\n",
    "        # we have to go to the left subtree\n",
    "        if data < node.data:\n",
    "            if node.left_node:\n",
    "                self.insert_node(data, node.left_node)\n",
    "            else:\n",
    "                node.left_node = Node(data, node)\n",
    "        # we have to visit the right subtree\n",
    "        else:\n",
    "            if node.right_node:\n",
    "                self.insert_node(data, node.right_node)\n",
    "            else:\n",
    "                node.right_node = Node(data, node)\n",
    "                \n",
    "\n",
    "if __name__ == '__main__':\n",
    "\n",
    "    bst = BinarySearchTree()\n",
    "    bst.insert(5)\n",
    "    bst.insert(3)\n",
    "    bst.insert(6)\n",
    "    bst.insert(1)"
   ]
  },
  {
   "cell_type": "code",
   "execution_count": null,
   "metadata": {},
   "outputs": [],
   "source": []
  }
 ],
 "metadata": {
  "kernelspec": {
   "display_name": "Python 3",
   "language": "python",
   "name": "python3"
  },
  "language_info": {
   "codemirror_mode": {
    "name": "ipython",
    "version": 3
   },
   "file_extension": ".py",
   "mimetype": "text/x-python",
   "name": "python",
   "nbconvert_exporter": "python",
   "pygments_lexer": "ipython3",
   "version": "3.8.5"
  }
 },
 "nbformat": 4,
 "nbformat_minor": 4
}
