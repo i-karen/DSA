{
 "cells": [
  {
   "cell_type": "markdown",
   "metadata": {},
   "source": [
    "## Reverse a Linked List in-place\n",
    "\n",
    "https://www.geeksforgeeks.org/reverse-a-linked-list/\n",
    "\n"
   ]
  },
  {
   "cell_type": "markdown",
   "metadata": {},
   "source": [
    "### Main steps \n",
    "\n",
    "        current_node = self.head\n",
    "        previous_node = None\n",
    "        next_node = None\n",
    "\n",
    "        while current_node is not None:\n",
    "            next_node = current_node.next_node\n",
    "            current_node.next_node = previous_node\n",
    "            previous_node = current_node\n",
    "            current_node = next_node"
   ]
  },
  {
   "cell_type": "code",
   "execution_count": 1,
   "metadata": {},
   "outputs": [
    {
     "name": "stdout",
     "output_type": "stream",
     "text": [
      "7\n",
      "6\n",
      "5\n",
      "4\n",
      "3\n",
      "2\n",
      "1\n",
      "1\n",
      "2\n",
      "3\n",
      "4\n",
      "5\n",
      "6\n",
      "7\n"
     ]
    }
   ],
   "source": [
    "class Node:\n",
    "\n",
    "    def __init__(self, data):\n",
    "        self.data = data\n",
    "        self.next_node = None\n",
    "\n",
    "\n",
    "class LinkedList:\n",
    "\n",
    "    def __init__(self):\n",
    "        self.head = None\n",
    "        self.size = 0\n",
    "\n",
    "    def reverse(self):\n",
    "\n",
    "        current_node = self.head\n",
    "        previous_node = None\n",
    "        next_node = None\n",
    "\n",
    "        while current_node is not None:\n",
    "            next_node = current_node.next_node\n",
    "            current_node.next_node = previous_node\n",
    "            previous_node = current_node\n",
    "            current_node = next_node\n",
    "\n",
    "        self.head = previous_node\n",
    "\n",
    "    # O(1) !!!\n",
    "    def insert(self, data):\n",
    "\n",
    "        self.size = self.size + 1\n",
    "        new_node = Node(data)\n",
    "\n",
    "        if not self.head:\n",
    "            self.head = new_node\n",
    "        else:\n",
    "            new_node.next_node = self.head\n",
    "            self.head = new_node\n",
    "\n",
    "    def traverse_list(self):\n",
    "\n",
    "        actual_node = self.head\n",
    "\n",
    "        while actual_node is not None:\n",
    "            print(\"%d\" % actual_node.data)\n",
    "            actual_node = actual_node.next_node\n",
    "\n",
    "\n",
    "if __name__ == '__main__':\n",
    "\n",
    "    linked_list = LinkedList()\n",
    "\n",
    "    linked_list.insert(1)\n",
    "    linked_list.insert(2)\n",
    "    linked_list.insert(3)\n",
    "    linked_list.insert(4)\n",
    "    linked_list.insert(5)\n",
    "    linked_list.insert(6)\n",
    "    linked_list.insert(7)\n",
    "\n",
    "    linked_list.traverse_list()\n",
    "    linked_list.reverse()\n",
    "    linked_list.traverse_list()"
   ]
  },
  {
   "cell_type": "code",
   "execution_count": null,
   "metadata": {},
   "outputs": [],
   "source": []
  }
 ],
 "metadata": {
  "kernelspec": {
   "display_name": "Python 3",
   "language": "python",
   "name": "python3"
  },
  "language_info": {
   "codemirror_mode": {
    "name": "ipython",
    "version": 3
   },
   "file_extension": ".py",
   "mimetype": "text/x-python",
   "name": "python",
   "nbconvert_exporter": "python",
   "pygments_lexer": "ipython3",
   "version": "3.8.5"
  }
 },
 "nbformat": 4,
 "nbformat_minor": 4
}
