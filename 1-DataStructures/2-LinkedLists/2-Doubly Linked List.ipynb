{
 "cells": [
  {
   "attachments": {
    "image-2.png": {
     "image/png": "[encoded data removed]"
    }
   },
   "cell_type": "markdown",
   "metadata": {},
   "source": [
    "# Doubly Linked List\n",
    "\n",
    "- In a doubly linked list, we define a linked list in which each node keeps an explicit reference to the node before it and a reference to the node after it. \n",
    "- These lists allow a greater variety of O(1)-time update operations, including insertions and deletions.\n",
    "- We continue to use the term “next” for the reference to the node that follows another. \n",
    "- We have a new term “prev” for the reference to the node that precedes it.\n",
    "\n",
    "![image-2.png](attachment:image-2.png)\n",
    "\n",
    "__We add special nodes at both ends of the list.__\n",
    "- a header node at the beginning of the list\n",
    "- a trailer node at the end of the list. \n",
    "- These “dummy” nodes are known as sentinels (or guards)\n"
   ]
  },
  {
   "cell_type": "code",
   "execution_count": 1,
   "metadata": {},
   "outputs": [],
   "source": [
    "class Node:\n",
    "\n",
    "    def __init__(self, data):\n",
    "        self.data = data\n",
    "        self.next = None\n",
    "        self.previous = None"
   ]
  },
  {
   "cell_type": "code",
   "execution_count": 2,
   "metadata": {},
   "outputs": [],
   "source": [
    "class DoublyLinkedList:\n",
    "\n",
    "    def __init__(self):\n",
    "        self.head = None\n",
    "        self.tail = None\n",
    "\n",
    "    # this operation inserts items at the end of the linked list\n",
    "    # so we have to manipulate the tail node in O(1) running time\n",
    "    def insert(self, data):\n",
    "\n",
    "        new_node = Node(data)\n",
    "\n",
    "        # when the list is empty\n",
    "        if self.head is None:\n",
    "            self.head = new_node\n",
    "            self.tail = new_node\n",
    "        # there is at least 1 item in the data structure\n",
    "        # we keep inserting items at the end of the linked list\n",
    "        else:\n",
    "            new_node.previous = self.tail\n",
    "            self.tail.next = new_node\n",
    "            self.tail = new_node\n",
    "\n",
    "    # we can traverse a doubly linked list in both directions\n",
    "    def traverse_forward(self):\n",
    "\n",
    "        actual_node = self.head\n",
    "\n",
    "        while actual_node is not None:\n",
    "            print(\"%d\" % actual_node.data)\n",
    "            actual_node = actual_node.next\n",
    "\n",
    "    def traverse_backward(self):\n",
    "\n",
    "        actual_node = self.tail\n",
    "\n",
    "        while actual_node is not None:\n",
    "            print(\"%d\" % actual_node.data)\n",
    "            actual_node = actual_node.previous"
   ]
  },
  {
   "cell_type": "code",
   "execution_count": 3,
   "metadata": {},
   "outputs": [
    {
     "name": "stdout",
     "output_type": "stream",
     "text": [
      "1\n",
      "2\n",
      "3\n"
     ]
    }
   ],
   "source": [
    "if __name__ == '__main__':\n",
    "\n",
    "    linked_list = DoublyLinkedList()\n",
    "    linked_list.insert(1)\n",
    "    linked_list.insert(2)\n",
    "    linked_list.insert(3)\n",
    "\n",
    "    # 1 2 3\n",
    "    linked_list.traverse_forward()"
   ]
  },
  {
   "cell_type": "markdown",
   "metadata": {},
   "source": [
    "## Pros & Cons\n",
    "| Data Structure                   | Array  | Singly Linked List | Doubly Linked List|\n",
    "|----------------------------------|--------|--------------------|-------------------|\n",
    "Insertion/Removal of First Item    |O(N)    | O(1)               | O(1)              |\n",
    "Insertion/Removal of Last Item     |O(1)    | O(N)               | O(1)              |\n",
    "Insertion/Removal of Arbitrary Item|O(N)    | O(N)               | O(N)              |\n",
    "Search Item                        |O(N)    | O(N)               | O(N)              |\n",
    "Waste space                        |static-0| O(N)               | O(N)              |\n",
    "\n"
   ]
  },
  {
   "cell_type": "code",
   "execution_count": null,
   "metadata": {},
   "outputs": [],
   "source": []
  }
 ],
 "metadata": {
  "kernelspec": {
   "display_name": "Python 3",
   "language": "python",
   "name": "python3"
  },
  "language_info": {
   "codemirror_mode": {
    "name": "ipython",
    "version": 3
   },
   "file_extension": ".py",
   "mimetype": "text/x-python",
   "name": "python",
   "nbconvert_exporter": "python",
   "pygments_lexer": "ipython3",
   "version": "3.8.5"
  }
 },
 "nbformat": 4,
 "nbformat_minor": 4
}
