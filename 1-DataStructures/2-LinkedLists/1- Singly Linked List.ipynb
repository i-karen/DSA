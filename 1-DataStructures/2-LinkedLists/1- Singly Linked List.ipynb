{
 "cells": [
  {
   "attachments": {
    "image.png": {
     "image/png": "[encoded data removed]"
    }
   },
   "cell_type": "markdown",
   "metadata": {},
   "source": [
    "# Singly Linked Lists\n",
    "Each node stores a reference to an object that is an element of the sequence, as well as a reference to the next node of the list.\n",
    "\n",
    "\n",
    "![image.png](attachment:image.png)"
   ]
  },
  {
   "cell_type": "code",
   "execution_count": 1,
   "metadata": {},
   "outputs": [],
   "source": [
    "class Node:\n",
    "\n",
    "    def __init__(self, data):\n",
    "        self.data = data\n",
    "        self.next_node = None"
   ]
  },
  {
   "cell_type": "code",
   "execution_count": 2,
   "metadata": {},
   "outputs": [],
   "source": [
    "class LinkedList:\n",
    "\n",
    "    def __init__(self):\n",
    "        self.head = None\n",
    "        self.num_of_nodes = 0\n",
    "\n",
    "    # O(1)\n",
    "    def insert_start(self, data):\n",
    "\n",
    "        self.num_of_nodes = self.num_of_nodes + 1\n",
    "        new_node = Node(data)\n",
    "\n",
    "        # the head is NULL (so the data structure is empty)\n",
    "        if not self.head:\n",
    "            self.head = new_node\n",
    "        # there is at lest one item in the linked list\n",
    "        else:\n",
    "            new_node.next_node = self.head\n",
    "            self.head = new_node\n",
    "\n",
    "    # O(N)\n",
    "    def insert_end(self, data):\n",
    "\n",
    "        self.num_of_nodes = self.num_of_nodes + 1\n",
    "        new_node = Node(data)\n",
    "\n",
    "        actual_node = self.head\n",
    "\n",
    "        # we have to find the end of the linked list in O(N) linear running time\n",
    "        while actual_node.next_node is not None:\n",
    "            actual_node = actual_node.next_node\n",
    "\n",
    "        # actual_node is the last node: so we insert the new_node right after the actual_node\n",
    "        actual_node.next_node = new_node\n",
    "\n",
    "    # O(1)\n",
    "    def size_of_list(self):\n",
    "        return self.num_of_nodes\n",
    "\n",
    "    # have to consider all the items in O(N) linear running time\n",
    "    def traverse(self):\n",
    "\n",
    "        actual_node = self.head\n",
    "\n",
    "        while actual_node is not None:\n",
    "            print(actual_node.data)\n",
    "            actual_node = actual_node.next_node\n",
    "\n",
    "    # O(N) linear running time for finding arbitrary item\n",
    "    def remove(self, data):\n",
    "\n",
    "        # list is empty\n",
    "        if self.head is None:\n",
    "            return\n",
    "\n",
    "        actual_node = self.head\n",
    "        # we have to track the previous node for future pointer updates\n",
    "        # this is why doubly linked lists are better - we can get the previous\n",
    "        # node (here with linked lists it is impossible)\n",
    "        previous_node = None\n",
    "\n",
    "        # search for the item we want to remove (data)\n",
    "        while actual_node is not None and actual_node.data != data:\n",
    "            previous_node = actual_node\n",
    "            actual_node = actual_node.next_node\n",
    "\n",
    "        # search miss\n",
    "        if actual_node is None:\n",
    "            return\n",
    "\n",
    "        # the head node is the one we want to remove\n",
    "        if previous_node is None:\n",
    "            self.head = actual_node.next_node\n",
    "        else:\n",
    "            # remove an internal node by updating the pointers\n",
    "            # NO NEED TO del THE NODE BECAUSE THE GARBAGE COLLECTOR WILL DO THAT\n",
    "            previous_node.next_node = actual_node.next_node"
   ]
  },
  {
   "cell_type": "code",
   "execution_count": 3,
   "metadata": {},
   "outputs": [
    {
     "name": "stdout",
     "output_type": "stream",
     "text": [
      "2\n",
      "1\n"
     ]
    }
   ],
   "source": [
    "if __name__ == '__main__':\n",
    "\n",
    "    linked_list = LinkedList()\n",
    "    linked_list.insert_start(1)\n",
    "    linked_list.insert_start(2)\n",
    "    linked_list.insert_end(3)\n",
    "\n",
    "    linked_list.remove(3)\n",
    "\n",
    "    linked_list.traverse()\n"
   ]
  },
  {
   "cell_type": "markdown",
   "metadata": {},
   "source": [
    "## Pros & Cons\n",
    "| Data Structure                   | Array  | Singly Linked List | Doubly Linked List|\n",
    "|----------------------------------|--------|--------------------|-------------------|\n",
    "Insertion/Removal of First Item    |O(N)    | O(1)               | O(1)              |\n",
    "Insertion/Removal of Last Item     |O(1)    | O(N)               | O(1)              |\n",
    "Insertion/Removal of Arbitrary Item|O(N)    | O(N)               | O(N)              |\n",
    "Search Item                        |O(N)    | O(N)               | O(N)              |\n",
    "Waste space                        |static-0| O(N)               | O(N)              |"
   ]
  },
  {
   "cell_type": "code",
   "execution_count": null,
   "metadata": {},
   "outputs": [],
   "source": []
  }
 ],
 "metadata": {
  "kernelspec": {
   "display_name": "Python 3",
   "language": "python",
   "name": "python3"
  },
  "language_info": {
   "codemirror_mode": {
    "name": "ipython",
    "version": 3
   },
   "file_extension": ".py",
   "mimetype": "text/x-python",
   "name": "python",
   "nbconvert_exporter": "python",
   "pygments_lexer": "ipython3",
   "version": "3.8.5"
  }
 },
 "nbformat": 4,
 "nbformat_minor": 4
}
