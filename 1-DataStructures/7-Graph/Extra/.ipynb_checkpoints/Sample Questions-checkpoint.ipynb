{
 "cells": [
  {
   "cell_type": "markdown",
   "metadata": {},
   "source": [
    "1. Word Ladder Problem\n",
    "2. Knight's Tour (Open & closed tour)\n",
    "    - https://www.geeksforgeeks.org/minimum-steps-reach-target-knight/\n",
    "    - https://adrianmejia.com/how-to-solve-any-graph-2d-arrays-maze-interview-questions-in-javascript-dfs-vs-bfs/ (BFS & DFS)\n",
    "3. Maze Problem (BFS & DFS)\n",
    "    - https://adrianmejia.com/how-to-solve-any-graph-2d-arrays-maze-interview-questions-in-javascript-dfs-vs-bfs/\n",
    "    - https://www.youtube.com/watch?v=-D-CiHeK4qU\n",
    "    - https://www.youtube.com/watch?v=b1vKhR7ZHzk\n",
    "    - https://www.youtube.com/watch?v=KiCBXu4P-2Y\n",
    "    - https://www.youtube.com/channel/UCmJz2DV1a3yfgrR7GqRtUUA"
   ]
  },
  {
   "cell_type": "code",
   "execution_count": null,
   "metadata": {},
   "outputs": [],
   "source": []
  }
 ],
 "metadata": {
  "kernelspec": {
   "display_name": "Python 3",
   "language": "python",
   "name": "python3"
  },
  "language_info": {
   "codemirror_mode": {
    "name": "ipython",
    "version": 3
   },
   "file_extension": ".py",
   "mimetype": "text/x-python",
   "name": "python",
   "nbconvert_exporter": "python",
   "pygments_lexer": "ipython3",
   "version": "3.8.5"
  }
 },
 "nbformat": 4,
 "nbformat_minor": 4
}
