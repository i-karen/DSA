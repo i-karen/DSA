{
 "cells": [
  {
   "cell_type": "markdown",
   "metadata": {},
   "source": [
    "# Problem Statement\n",
    "\n",
    " \n",
    "Given a set of non-negative integers, and a value sum, determine if there is a subset of the given set with sum equal to given sum. \n",
    "\n",
    "_*Example*:_ \n",
    "\n",
    "1)\n",
    "\n",
    "Input: set[] = {3, 34, 4, 12, 5, 2}, sum = 9\n",
    "\n",
    "Output: [4,5]  \n",
    "\n",
    "There is a subset (4, 5) with sum 9.\n",
    "\n",
    "\n",
    "2)\n",
    "\n",
    "Input: set[] = {3, 34, 4, 12, 5, 2}, sum = 30\n",
    "\n",
    "Output: None\n",
    "\n",
    "There is no subset that add up to 30.\n",
    "\n"
   ]
  },
  {
   "cell_type": "markdown",
   "metadata": {},
   "source": [
    "### Recursion - Trial 1"
   ]
  },
  {
   "cell_type": "code",
   "execution_count": 3,
   "metadata": {},
   "outputs": [
    {
     "name": "stdout",
     "output_type": "stream",
     "text": [
      "[]\n",
      "[7, 6]\n",
      "[7, 7, 7, 6, 6, 6]\n"
     ]
    }
   ],
   "source": [
    "res = []\n",
    "\n",
    "def howSum(number, array, res):\n",
    "    # res = False\n",
    "    if number == 0:\n",
    "        return res\n",
    "    elif number < min(array):\n",
    "        # res = []\n",
    "        return None\n",
    "    elif number < 0:\n",
    "        # res = []\n",
    "        return None\n",
    "\n",
    "    for i in array:\n",
    "        if i<=number:\n",
    "            res.append(i)\n",
    "            final = howSum(number-i, array, res)\n",
    "            if final:\n",
    "                return final\n",
    "            else:\n",
    "                res.pop()\n",
    "            \n",
    "\n",
    "    return None\n",
    "\n",
    "print(howSum(0, [7,6], []))\n",
    "print(howSum(13, [7,6], []))\n",
    "print(howSum(39, [7,6], []))"
   ]
  },
  {
   "cell_type": "markdown",
   "metadata": {},
   "source": [
    "### Recursion - Trial 2\n",
    "\n"
   ]
  },
  {
   "cell_type": "code",
   "execution_count": 10,
   "metadata": {},
   "outputs": [
    {
     "name": "stdout",
     "output_type": "stream",
     "text": [
      "[0, 6, 7]\n",
      "None\n"
     ]
    }
   ],
   "source": [
    "def howSum(number, array):\n",
    "    \n",
    "    if number == 0:\n",
    "        return [0]\n",
    "    elif number < min(array):\n",
    "        return None\n",
    "    elif number < 0:\n",
    "        return None\n",
    "\n",
    "    for i in array:\n",
    "        if i<=number:\n",
    "            final = howSum(number-i, array)\n",
    "            if final:\n",
    "                final.append(i)\n",
    "            return final\n",
    "    return None\n",
    "\n",
    "print(howSum(13, [7, 6]))\n",
    "print(howSum(15, [2,8,4]))\n",
    "# print(howSum(300, [7, 9]))"
   ]
  },
  {
   "cell_type": "markdown",
   "metadata": {},
   "source": [
    "### Dynamic Programming - Memoized"
   ]
  },
  {
   "cell_type": "code",
   "execution_count": 13,
   "metadata": {},
   "outputs": [
    {
     "name": "stdout",
     "output_type": "stream",
     "text": [
      "[0, 6, 7]\n",
      "None\n",
      "[0, 6, 7, 7, 7, 7, 7, 7, 7, 7, 7, 7, 7, 7, 7, 7, 7, 7, 7, 7, 7, 7, 7, 7, 7, 7, 7, 7, 7, 7, 7, 7, 7, 7, 7, 7, 7, 7, 7, 7, 7, 7, 7, 7]\n"
     ]
    }
   ],
   "source": [
    "def howSum(number, array, memo={}):\n",
    "    if number in memo.keys():\n",
    "        return memo[number]\n",
    "    elif number == 0:\n",
    "        return [0]\n",
    "    elif number < min(array):\n",
    "        return None\n",
    "    elif number < 0:\n",
    "        return None\n",
    "\n",
    "    for i in array:\n",
    "        if i<=number:\n",
    "            final = howSum(number-i, array,memo)\n",
    "            if final:\n",
    "                final.append(i)\n",
    "            memo[number] = final\n",
    "            return final\n",
    "    return None\n",
    "\n",
    "print(howSum(13, [7, 6], {}))\n",
    "print(howSum(15, [2,8,4], {}))\n",
    "print(howSum(300, [7, 6],{}))"
   ]
  },
  {
   "cell_type": "markdown",
   "metadata": {},
   "source": [
    "### Dynamic Programming - Tabulation"
   ]
  },
  {
   "cell_type": "code",
   "execution_count": null,
   "metadata": {},
   "outputs": [],
   "source": []
  },
  {
   "cell_type": "code",
   "execution_count": null,
   "metadata": {},
   "outputs": [],
   "source": []
  },
  {
   "cell_type": "code",
   "execution_count": null,
   "metadata": {},
   "outputs": [],
   "source": []
  }
 ],
 "metadata": {
  "kernelspec": {
   "display_name": "Python 3",
   "language": "python",
   "name": "python3"
  },
  "language_info": {
   "codemirror_mode": {
    "name": "ipython",
    "version": 3
   },
   "file_extension": ".py",
   "mimetype": "text/x-python",
   "name": "python",
   "nbconvert_exporter": "python",
   "pygments_lexer": "ipython3",
   "version": "3.8.5"
  }
 },
 "nbformat": 4,
 "nbformat_minor": 4
}
