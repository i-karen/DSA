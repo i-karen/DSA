{
 "cells": [
  {
   "cell_type": "markdown",
   "metadata": {},
   "source": [
    "# Problem Statement\n",
    "\n",
    " \n",
    "Given a set of non-negative integers, and a value sum, determine if there is a subset of the given set with sum equal to given sum. \n",
    "\n",
    "_*Example*:_ \n",
    "\n",
    "1)\n",
    "\n",
    "Input: set[] = {3, 34, 4, 12, 5, 2}, sum = 9\n",
    "\n",
    "Output: True  \n",
    "\n",
    "There is a subset (4, 5) with sum 9.\n",
    "\n",
    "\n",
    "2)\n",
    "\n",
    "Input: set[] = {3, 34, 4, 12, 5, 2}, sum = 30\n",
    "\n",
    "Output: False\n",
    "\n",
    "There is no subset that add up to 30.\n",
    "\n"
   ]
  },
  {
   "cell_type": "markdown",
   "metadata": {},
   "source": [
    "### Recursion - Trial 1"
   ]
  },
  {
   "cell_type": "code",
   "execution_count": 29,
   "metadata": {},
   "outputs": [
    {
     "name": "stdout",
     "output_type": "stream",
     "text": [
      "True\n"
     ]
    }
   ],
   "source": [
    "res = []\n",
    "\n",
    "def canSum(number, array):\n",
    "    # res = False\n",
    "    if number == 0:\n",
    "        return True\n",
    "    elif number < min(array):\n",
    "        return False\n",
    "    elif number < 0:\n",
    "        return False\n",
    "\n",
    "    for i in array:\n",
    "        if i<=number:\n",
    "            res.append(canSum(number-i, array))\n",
    "            \n",
    "        else:\n",
    "            res.append(False)\n",
    "        # print(i,number-i, res)\n",
    "\n",
    "    if True in res:\n",
    "        return True\n",
    "    else:\n",
    "        return False\n",
    "\n",
    "print(canSum(13, [7, 6]))\n",
    "# print(canSum(15, [2,8,4]))"
   ]
  },
  {
   "cell_type": "markdown",
   "metadata": {},
   "source": [
    "### Recursion - Trial 2\n",
    "\n"
   ]
  },
  {
   "cell_type": "code",
   "execution_count": 30,
   "metadata": {},
   "outputs": [
    {
     "name": "stdout",
     "output_type": "stream",
     "text": [
      "True\n",
      "False\n"
     ]
    }
   ],
   "source": [
    "def canSum(number, array):\n",
    "    if number == 0:\n",
    "        return True\n",
    "    elif number < min(array):\n",
    "        return False\n",
    "    elif number < 0:\n",
    "        return False\n",
    "\n",
    "    for i in array:\n",
    "        if i<=number:\n",
    "            res = canSum(number-i, array)\n",
    "            return res\n",
    "    \n",
    "    return False\n",
    "\n",
    "print(canSum(13, [7, 6]))\n",
    "print(canSum(15, [2,8,4]))\n",
    "# print(canSum(300, [7, 9]))"
   ]
  },
  {
   "cell_type": "markdown",
   "metadata": {},
   "source": [
    "### Dynamic Programming - Memoized"
   ]
  },
  {
   "cell_type": "code",
   "execution_count": 31,
   "metadata": {},
   "outputs": [
    {
     "name": "stdout",
     "output_type": "stream",
     "text": [
      "True\n",
      "False\n",
      "False\n"
     ]
    }
   ],
   "source": [
    "def canSum(number, array, memo={}):\n",
    "    if number in memo.keys():\n",
    "        return memo[number]\n",
    "    if number == 0:\n",
    "        return True\n",
    "    elif number < min(array):\n",
    "        return False\n",
    "    elif number < 0:\n",
    "        return False\n",
    "\n",
    "    for i in array:\n",
    "        if i<=number:\n",
    "            res = canSum(number-i, array,memo)\n",
    "            memo[number] = res\n",
    "            return res\n",
    "        \n",
    "    memo[number] = False\n",
    "    return False\n",
    "\n",
    "print(canSum(13, [7, 6],{}))\n",
    "print(canSum(15, [2,8,4],{}))\n",
    "print(canSum(300, [7, 9],{}))"
   ]
  },
  {
   "cell_type": "markdown",
   "metadata": {},
   "source": [
    "### Dynamic Programming - Tabulation"
   ]
  },
  {
   "cell_type": "code",
   "execution_count": null,
   "metadata": {},
   "outputs": [],
   "source": []
  },
  {
   "cell_type": "code",
   "execution_count": null,
   "metadata": {},
   "outputs": [],
   "source": []
  }
 ],
 "metadata": {
  "kernelspec": {
   "display_name": "Python 3",
   "language": "python",
   "name": "python3"
  },
  "language_info": {
   "codemirror_mode": {
    "name": "ipython",
    "version": 3
   },
   "file_extension": ".py",
   "mimetype": "text/x-python",
   "name": "python",
   "nbconvert_exporter": "python",
   "pygments_lexer": "ipython3",
   "version": "3.8.5"
  }
 },
 "nbformat": 4,
 "nbformat_minor": 4
}
